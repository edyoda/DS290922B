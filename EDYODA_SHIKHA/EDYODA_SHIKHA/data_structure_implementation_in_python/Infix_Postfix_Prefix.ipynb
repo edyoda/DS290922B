{
 "cells": [
  {
   "cell_type": "code",
   "execution_count": null,
   "id": "25a8dc11",
   "metadata": {},
   "outputs": [],
   "source": [
    "operands operator(+, -, *, /)\n",
    "\n",
    "5 + 1: 5,1 are operands & '+' is operator\n",
    "(a-1)+5\n",
    "\n",
    "2*3=6\n",
    "5+1=6\n",
    "humans always use infix notation.\n",
    "+-*2/567\n",
    "\n",
    "5+1:infix\n",
    "51+:postfix\n",
    "+51:prefix\n",
    "    \n",
    "8/2*3: 12\n",
    "(8/2)*3: 12 : bcoz in precedence rules(BODMAS)\n",
    "8/(2*3):8/6\n",
    "    \n",
    "# pre-/postfix is easier to parse for a machine as there never any questions like operator precedence. "
   ]
  },
  {
   "cell_type": "code",
   "execution_count": null,
   "id": "12b7d102",
   "metadata": {},
   "outputs": [],
   "source": []
  },
  {
   "cell_type": "code",
   "execution_count": null,
   "id": "b4df2887",
   "metadata": {},
   "outputs": [],
   "source": []
  },
  {
   "cell_type": "code",
   "execution_count": null,
   "id": "e3a36116",
   "metadata": {},
   "outputs": [],
   "source": []
  },
  {
   "cell_type": "code",
   "execution_count": null,
   "id": "334df3c7",
   "metadata": {},
   "outputs": [],
   "source": []
  },
  {
   "cell_type": "markdown",
   "id": "3e74c2b6",
   "metadata": {},
   "source": [
    "# Infix to Postfix (Polish Notation)"
   ]
  },
  {
   "cell_type": "markdown",
   "id": "041c9617",
   "metadata": {},
   "source": [
    "(: LEFT PARENTHESIS\n",
    "\n",
    "): RIGHT PARENTHESIS"
   ]
  },
  {
   "cell_type": "code",
   "execution_count": null,
   "id": "f6b3598b",
   "metadata": {},
   "outputs": [],
   "source": [
    "# PRECEDENCE RULE:\n",
    "# ASSOCIATIVITY RULE\n",
    "\n",
    "()\n",
    "^    Right to Left\n",
    "* /  Left To Right\n",
    "+ -  Left TO RIght"
   ]
  },
  {
   "cell_type": "code",
   "execution_count": null,
   "id": "18094c63",
   "metadata": {},
   "outputs": [],
   "source": [
    "2^2^3\n",
    "(2^2)^3=64  #wrong\n",
    "2^(2^3)=256 #right"
   ]
  },
  {
   "cell_type": "code",
   "execution_count": null,
   "id": "76080071",
   "metadata": {},
   "outputs": [],
   "source": [
    "# RULES"
   ]
  },
  {
   "cell_type": "markdown",
   "id": "d6ed3f11",
   "metadata": {},
   "source": [
    "1. Print operands as they arrive.\n",
    "\n",
    "2. If the stack is empty or contains a left parenthesis on the top, push the incoming operator onto the stack.\n",
    "\n",
    "3. If the incoming symbol is left parenthesis, i.e., ‘(‘ : push it onto stack.\n",
    "\n",
    "4. If the incoming symbol is right parenthesis, i.e.’)’ :pop the stack and print the operator until the left parenthesis is found.\n",
    "\n",
    "5. If the incoming symbol has higher precedence than the top of the stack, then push it on the stack.\n",
    "\n",
    "6. If the incoming symbol has lower precedence than the top of the stack, pop and print the top. Then test the incoming operator against the new top of the stack.\n",
    "\n",
    "7. If the incoming operator has equal precedence with the top of the stack, use associativity rule.\n",
    "\n",
    "  - If associativity is left to right, then pop and print the top of the stack and then push the incoming operator. \n",
    "  \n",
    "  - If associativity is right to left, then push the incoming operator.\n",
    "  \n",
    "8. At the end of the expression, pop and print all the operators out of stack.\n"
   ]
  },
  {
   "cell_type": "markdown",
   "id": "97513188",
   "metadata": {},
   "source": [
    "# INFIX TO PREFIX CONVERSION"
   ]
  },
  {
   "cell_type": "code",
   "execution_count": null,
   "id": "7ca09b42",
   "metadata": {},
   "outputs": [],
   "source": []
  },
  {
   "cell_type": "code",
   "execution_count": null,
   "id": "d914369b",
   "metadata": {},
   "outputs": [],
   "source": []
  },
  {
   "cell_type": "code",
   "execution_count": null,
   "id": "caffe54b",
   "metadata": {},
   "outputs": [],
   "source": []
  },
  {
   "cell_type": "markdown",
   "id": "5ebd6113",
   "metadata": {},
   "source": [
    "# POSTFIX TO INFIX CONVERSION"
   ]
  },
  {
   "cell_type": "code",
   "execution_count": null,
   "id": "33b71084",
   "metadata": {},
   "outputs": [],
   "source": []
  },
  {
   "cell_type": "code",
   "execution_count": null,
   "id": "c57c58bd",
   "metadata": {},
   "outputs": [],
   "source": []
  },
  {
   "cell_type": "markdown",
   "id": "b219cbe7",
   "metadata": {},
   "source": [
    "# REVERSE A STACK"
   ]
  },
  {
   "cell_type": "code",
   "execution_count": null,
   "id": "05f1b25b",
   "metadata": {},
   "outputs": [],
   "source": [
    "[1, 2, 3, 4, 5]"
   ]
  },
  {
   "cell_type": "markdown",
   "id": "6efc1bea",
   "metadata": {},
   "source": [
    "recursion: when a function calls itself\n",
    "two things to keep in mind while writing recursive function:\n",
    "1. base condition: to stop/end recursion after finite calls \n",
    "\n",
    "2. recursive case: calling the function itself"
   ]
  },
  {
   "cell_type": "markdown",
   "id": "af82e99e",
   "metadata": {},
   "source": [
    "def a():\n",
    "    //do\n",
    "    //do\n",
    "    a()\n",
    "    \n",
    "<!-- def b():\n",
    "    //b() -->"
   ]
  },
  {
   "cell_type": "code",
   "execution_count": 1,
   "id": "41c440a0",
   "metadata": {},
   "outputs": [
    {
     "ename": "NameError",
     "evalue": "name 'num' is not defined",
     "output_type": "error",
     "traceback": [
      "\u001b[0;31m---------------------------------------------------------------------------\u001b[0m",
      "\u001b[0;31mNameError\u001b[0m                                 Traceback (most recent call last)",
      "Cell \u001b[0;32mIn [1], line 3\u001b[0m\n\u001b[1;32m      1\u001b[0m fact \u001b[38;5;241m=\u001b[39m \u001b[38;5;241m1\u001b[39m\n\u001b[0;32m----> 3\u001b[0m \u001b[38;5;28;01mif\u001b[39;00m \u001b[43mnum\u001b[49m\u001b[38;5;241m<\u001b[39m\u001b[38;5;241m0\u001b[39m:\n\u001b[1;32m      4\u001b[0m     \u001b[38;5;28mprint\u001b[39m()\n",
      "\u001b[0;31mNameError\u001b[0m: name 'num' is not defined"
     ]
    }
   ],
   "source": [
    "fact = 1\n",
    "\n",
    "if num<0:\n",
    "    print(\"\")\n",
    "elif num==0:\n",
    "    print(\"1\")\n",
    "else:\n",
    "    for i in range(1, num+1):\n",
    "        fact = fact*i\n",
    "        "
   ]
  },
  {
   "cell_type": "code",
   "execution_count": 1,
   "id": "2f1b857f",
   "metadata": {},
   "outputs": [],
   "source": [
    "def factorial(n):                          #5\n",
    "    if (n==0 or n==1):\n",
    "        return 1\n",
    "    else:\n",
    "        return n * factorial(n-1)\n",
    "    \n"
   ]
  },
  {
   "cell_type": "code",
   "execution_count": null,
   "id": "fab4a8ff",
   "metadata": {},
   "outputs": [],
   "source": [
    "#n=5\n",
    "5 * factorial(4)                     :5*24=120\n",
    "    #n=4                             :gave 24                       \n",
    "    4 * factorial(3)                  :4*6=24\n",
    "        #n=3                         :gave 6\n",
    "        3 * factorial(2)              3*2=6\n",
    "        #n=2                        : gave 2\n",
    "        2 * factorial(1)\n",
    "        = 2*1  => 2"
   ]
  },
  {
   "cell_type": "code",
   "execution_count": 2,
   "id": "e9c222c2",
   "metadata": {},
   "outputs": [
    {
     "name": "stdout",
     "output_type": "stream",
     "text": [
      "enter number5\n",
      "120\n"
     ]
    }
   ],
   "source": [
    "n = int(input(\"enter number\"))\n",
    "result = factorial(n)\n",
    "print(result)"
   ]
  },
  {
   "cell_type": "code",
   "execution_count": null,
   "id": "f783efd6",
   "metadata": {},
   "outputs": [],
   "source": [
    "for i in range(n):\n",
    "    //do         \n",
    "    for i in range(n):\n",
    "        //\n",
    "        for i in range(n):"
   ]
  }
 ],
 "metadata": {
  "kernelspec": {
   "display_name": "Python 3 (ipykernel)",
   "language": "python",
   "name": "python3"
  },
  "language_info": {
   "codemirror_mode": {
    "name": "ipython",
    "version": 3
   },
   "file_extension": ".py",
   "mimetype": "text/x-python",
   "name": "python",
   "nbconvert_exporter": "python",
   "pygments_lexer": "ipython3",
   "version": "3.8.10"
  }
 },
 "nbformat": 4,
 "nbformat_minor": 5
}
