{
 "cells": [
  {
   "cell_type": "markdown",
   "id": "7029cba6",
   "metadata": {},
   "source": [
    "Q. Imagine a classroom of 100 students in which you gave your pen to one person. You have to find that pen without knowing to whom you gave it. "
   ]
  },
  {
   "cell_type": "markdown",
   "id": "a44d5f01",
   "metadata": {},
   "source": [
    "Here are some ways to find the pen and what the O order is.\n",
    "\n",
    "- O(n2): You go and ask the first person in the class if he has the pen. Also, you ask this person about the other 99 people in the classroom if they have that pen and so on, \n",
    "This is what we call O(n2). \n",
    "\n",
    "\n",
    "- O(n): Going and asking each student individually is O(N). \n",
    "\n",
    "\n",
    "- O(log n): Now I divide the class into two groups, then ask: “Is it on the left side, or the right side of the classroom?” Then I take that group and divide it into two and ask again, and so on. Repeat the process till you are left with one student who has your pen. This is what you mean by O(log n). "
   ]
  },
  {
   "cell_type": "markdown",
   "id": "46cb350e",
   "metadata": {},
   "source": [
    "I might need to do:"
   ]
  },
  {
   "cell_type": "markdown",
   "id": "c06ef1e8",
   "metadata": {},
   "source": [
    "- The O(n2) searches if only one student knows on which student the pen is hidden. \n",
    "- The O(n) if one student had the pen and only they knew it. \n",
    "- The O(log n) search if all the students knew, but would only tell me if I guessed the right side. "
   ]
  },
  {
   "cell_type": "markdown",
   "id": "d05f937c",
   "metadata": {},
   "source": [
    "NOTE: We are interested in the rate of growth over time with respect to the inputs taken during the program execution."
   ]
  },
  {
   "cell_type": "markdown",
   "id": "03c7aea1",
   "metadata": {},
   "source": [
    "# Is the Time Complexity of an Algorithm/Code the same as the Running/Execution Time of Code?"
   ]
  },
  {
   "cell_type": "markdown",
   "id": "c87e7b32",
   "metadata": {},
   "source": [
    "The Time Complexity of an algorithm/code is not equal to the actual time required to execute a particular code, but the number of times a statement executes. "
   ]
  },
  {
   "cell_type": "markdown",
   "id": "88ffef8c",
   "metadata": {},
   "source": [
    "For example: Write code in C/C++ or any other language to find the maximum between N numbers, where N varies from 10, 100, 1000, and 10000. For Linux based operating system (Fedora or Ubuntu), use the below commands: "
   ]
  },
  {
   "cell_type": "markdown",
   "id": "ed3756af",
   "metadata": {},
   "source": [
    "You will get surprising results i.e.:\n",
    "\n",
    "- For N = 10: you may get 0.5 ms time, \n",
    "- For N = 10,000: you may get 0.2 ms time. \n",
    "\n",
    "Also, you will get different timings on different machines. Even if you will not get the same timings on the same machine for the same code, the reason behind that is the current network load.\n",
    "\n",
    "So, we can say that the actual time required to execute code is machine-dependent (whether you are using Pentium 1 or Pentium 5) and also it considers network load if your machine is in LAN/WAN. \n",
    "\n"
   ]
  },
  {
   "cell_type": "markdown",
   "id": "a8082ef1",
   "metadata": {},
   "source": [
    "# What is meant by the Time Complexity of an Algorithm?"
   ]
  },
  {
   "cell_type": "markdown",
   "id": "03519bea",
   "metadata": {},
   "source": [
    "Now, the question arises if time complexity is not the actual time required to execute the code, then what is it? "
   ]
  },
  {
   "cell_type": "markdown",
   "id": "605ce8eb",
   "metadata": {},
   "source": [
    "The answer is: \n",
    "    \n",
    "Instead of measuring actual time required in executing each statement in the code, Time Complexity considers how many times each statement executes. "
   ]
  },
  {
   "cell_type": "code",
   "execution_count": null,
   "id": "842752cd",
   "metadata": {},
   "outputs": [],
   "source": []
  }
 ],
 "metadata": {
  "kernelspec": {
   "display_name": "Python 3 (ipykernel)",
   "language": "python",
   "name": "python3"
  },
  "language_info": {
   "codemirror_mode": {
    "name": "ipython",
    "version": 3
   },
   "file_extension": ".py",
   "mimetype": "text/x-python",
   "name": "python",
   "nbconvert_exporter": "python",
   "pygments_lexer": "ipython3",
   "version": "3.8.10"
  }
 },
 "nbformat": 4,
 "nbformat_minor": 5
}
