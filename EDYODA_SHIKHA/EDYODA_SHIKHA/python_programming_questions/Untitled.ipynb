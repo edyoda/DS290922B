{
 "cells": [
  {
   "cell_type": "code",
   "execution_count": null,
   "id": "67c695e7",
   "metadata": {},
   "outputs": [],
   "source": [
    "class Movie:\n",
    "    \n",
    "    def __init__(self, rows, columns):\n",
    "        self.total_seats = rows * columns\n",
    "        self.all_seats = [[str(i) + '_' + str(j) for j in range(columns)] for i in range(rows)]\n",
    "        \n",
    "    def total_seats(self):\n",
    "        self.total_seats\n",
    "        \n",
    "    def check_availability(self):\n",
    "        \n",
    "        \n",
    "    def book_ticket(self):\n",
    "        \n",
    "        \n",
    "      \n",
    "        \n",
    "    def states(self):\n",
    "        \n",
    "        \n",
    "    \n",
    "        \n",
    "        \n",
    "        "
   ]
  },
  {
   "cell_type": "code",
   "execution_count": null,
   "id": "f9f03827",
   "metadata": {},
   "outputs": [],
   "source": []
  }
 ],
 "metadata": {
  "kernelspec": {
   "display_name": "Python 3 (ipykernel)",
   "language": "python",
   "name": "python3"
  },
  "language_info": {
   "codemirror_mode": {
    "name": "ipython",
    "version": 3
   },
   "file_extension": ".py",
   "mimetype": "text/x-python",
   "name": "python",
   "nbconvert_exporter": "python",
   "pygments_lexer": "ipython3",
   "version": "3.8.10"
  }
 },
 "nbformat": 4,
 "nbformat_minor": 5
}
