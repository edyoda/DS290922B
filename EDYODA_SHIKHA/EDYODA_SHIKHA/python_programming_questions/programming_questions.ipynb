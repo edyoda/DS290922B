{
 "cells": [
  {
   "cell_type": "markdown",
   "id": "2fdf4668",
   "metadata": {},
   "source": [
    "# Find all pairs of an interger array whose sum is equal to a given number"
   ]
  },
  {
   "cell_type": "markdown",
   "id": "006bcab9",
   "metadata": {},
   "source": [
    "Given an array of integers, and a number ‘sum’, print all pairs in the array whose sum is equal to ‘sum’."
   ]
  },
  {
   "cell_type": "markdown",
   "id": "a14a7660",
   "metadata": {},
   "source": [
    "Examples :\n",
    "Input  :  arr[] = {1, 5, 7, -1, 5}, \n",
    "\n",
    "          sum = 6\n",
    "          \n",
    "Output : (1, 5) (7, -1) (1, 5)\n",
    "\n",
    "\n",
    "Input  :  arr[] = {2, 5, 17, -1}, \n",
    "\n",
    "          sum = 7\n",
    "          \n",
    "Output :  (2, 5)"
   ]
  },
  {
   "cell_type": "code",
   "execution_count": 3,
   "id": "9a4bff47",
   "metadata": {},
   "outputs": [
    {
     "name": "stdout",
     "output_type": "stream",
     "text": [
      "i--------------> 0\n",
      "0\n",
      "1\n",
      "2\n",
      "3\n",
      "4\n",
      "i--------------> 1\n",
      "1\n",
      "2\n",
      "3\n",
      "4\n",
      "i--------------> 2\n",
      "2\n",
      "3\n",
      "4\n",
      "i--------------> 3\n",
      "3\n",
      "4\n",
      "i--------------> 4\n",
      "4\n"
     ]
    }
   ],
   "source": [
    "for i in range(5):\n",
    "    print(\"i-------------->\", i)\n",
    "    for j in range(i, 5):\n",
    "        print(j)"
   ]
  },
  {
   "cell_type": "code",
   "execution_count": 10,
   "id": "a64ad1c6",
   "metadata": {},
   "outputs": [
    {
     "name": "stdout",
     "output_type": "stream",
     "text": [
      "1\n"
     ]
    }
   ],
   "source": [
    "for j in range(1,2):\n",
    "    print(j)"
   ]
  },
  {
   "cell_type": "code",
   "execution_count": 13,
   "id": "7da6ad7b",
   "metadata": {},
   "outputs": [
    {
     "name": "stdout",
     "output_type": "stream",
     "text": [
      "6 6\n"
     ]
    }
   ],
   "source": [
    "def find_pair(array, total):\n",
    "    length = len(array)                    \n",
    "    \n",
    "    for i in range(length):     #i=0 i=1\n",
    "        for j in range(i+1, length): #j=0 j=1 j=2:loop got terminated   #range(1,2)j=1\n",
    "            if (array[i] + array[j]) == total:\n",
    "                print(array[i], array[j])\n",
    "                \n",
    "                \n",
    "array = [6, 6]\n",
    "total = 12\n",
    "find_pair(array, total)\n",
    "    "
   ]
  },
  {
   "cell_type": "markdown",
   "id": "00c1d7f3",
   "metadata": {},
   "source": [
    "# Program to print pattern based on the number of input"
   ]
  },
  {
   "cell_type": "markdown",
   "id": "557c9796",
   "metadata": {},
   "source": [
    "n = 5\n",
    "\n",
    "*\n",
    "\n",
    "* * \n",
    "\n",
    "* * *\n",
    "\n",
    "* * * *\n",
    "\n",
    "* * * * *"
   ]
  },
  {
   "cell_type": "code",
   "execution_count": 17,
   "id": "b7770a79",
   "metadata": {},
   "outputs": [
    {
     "name": "stdout",
     "output_type": "stream",
     "text": [
      "enter no. of rows5\n",
      "* \n",
      "\n",
      "* * \n",
      "\n",
      "* * * \n",
      "\n",
      "* * * * \n",
      "\n",
      "* * * * * \n",
      "\n"
     ]
    }
   ],
   "source": [
    "rows = int(input(\"enter no. of rows\"))\n",
    "\n",
    "for i in range(rows):    #(range(5)\n",
    "#     print(\"i-------------------->\", i)\n",
    "    for j in range(i+1):        #range(1) means loop get executed for 0\n",
    "#         print(\"j:\", j)\n",
    "        print(\"* \", end=\"\")\n",
    "    print(\"\\n\")\n",
    "        \n",
    "        "
   ]
  },
  {
   "cell_type": "markdown",
   "id": "8ed3ee77",
   "metadata": {},
   "source": [
    "# Program to print reverse star pattern"
   ]
  },
  {
   "cell_type": "markdown",
   "id": "629ce4bd",
   "metadata": {},
   "source": [
    "n = 5\n",
    "\n",
    "* * * * *\n",
    "\n",
    "* * * *\n",
    "\n",
    "* * *\n",
    "\n",
    "* *\n",
    "\n",
    "*"
   ]
  },
  {
   "cell_type": "code",
   "execution_count": 21,
   "id": "0b1bcd1b",
   "metadata": {},
   "outputs": [],
   "source": [
    "# range(2,5)\n",
    "# for i in range(100 , 10, -10):\n",
    "#     print(i)"
   ]
  },
  {
   "cell_type": "code",
   "execution_count": 23,
   "id": "deb4e225",
   "metadata": {},
   "outputs": [
    {
     "name": "stdout",
     "output_type": "stream",
     "text": [
      "enter no. of rows5\n",
      "* * * * * \n",
      "\n",
      "* * * * \n",
      "\n",
      "* * * \n",
      "\n",
      "* * \n",
      "\n",
      "* \n",
      "\n"
     ]
    }
   ],
   "source": [
    "rows = int(input(\"enter no. of rows\"))\n",
    "\n",
    "for i in range(rows, 0, -1):       #range(5,0,-1)\n",
    "    for j in range(0,i):                #range(i, 0, -1)\n",
    "        print(\"* \", end=\"\")\n",
    "    print(\"\\n\")"
   ]
  },
  {
   "cell_type": "markdown",
   "id": "f807efd6",
   "metadata": {},
   "source": [
    "n = 5\n",
    "\n",
    "\n",
    "1 2 3 4 5\n",
    "\n",
    "1 2 3 4\n",
    "\n",
    "1 2 3\n",
    "\n",
    "1 2\n",
    "\n",
    "1"
   ]
  },
  {
   "cell_type": "code",
   "execution_count": null,
   "id": "c891a0c2",
   "metadata": {},
   "outputs": [],
   "source": []
  },
  {
   "cell_type": "markdown",
   "id": "225ffd7a",
   "metadata": {},
   "source": [
    "# Find all triplets with a given sum"
   ]
  },
  {
   "cell_type": "markdown",
   "id": "148ae5ff",
   "metadata": {},
   "source": [
    "Given an array of distinct elements. The task is to find triplets in array whose sum is equal to a given number."
   ]
  },
  {
   "cell_type": "markdown",
   "id": "749d4922",
   "metadata": {},
   "source": [
    "Example:\n",
    "\n",
    "Input: arr[] = {0, -1, 2, -3, 1}\n",
    "\n",
    "        sum = -2\n",
    "        \n",
    "Output:    0 -3  1\n",
    "\n",
    "           -1  2 -3\n",
    "        \n",
    "If we calculate the sum of the output,\n",
    "0 + (-3) + 1 = -2\n",
    "\n",
    "(-1) + 2 + (-3) = -2\n",
    "\n",
    "\n",
    "\n",
    "Input: arr[] = {1, -2, 1, 0, 5}\n",
    "\n",
    "       sum = 0\n",
    "       \n",
    "Output: 1 -2  1\n",
    "\n",
    "If we calculate the sum of the output,\n",
    "\n",
    "1 + (-2) + 1 = 0"
   ]
  },
  {
   "cell_type": "code",
   "execution_count": null,
   "id": "c7daacde",
   "metadata": {},
   "outputs": [],
   "source": []
  },
  {
   "cell_type": "code",
   "execution_count": null,
   "id": "a8c8f0cf",
   "metadata": {},
   "outputs": [],
   "source": []
  },
  {
   "cell_type": "markdown",
   "id": "ccf0c1b8",
   "metadata": {},
   "source": [
    "# Program to check whether a string is palindrome or not"
   ]
  },
  {
   "cell_type": "markdown",
   "id": "819461bb",
   "metadata": {},
   "source": [
    "A palindrome is a string that is the same read forward or backward.\n",
    "\n",
    "For example, \"dad\" is the same in forward or reverse direction. Another example is \"aibohphobia\", which literally means, an irritable fear of palindromes."
   ]
  },
  {
   "cell_type": "markdown",
   "id": "e7357f7a",
   "metadata": {},
   "source": [
    "Examples: \n",
    "\n",
    "Input : malayalam\n",
    "\n",
    "Output : Yes\n",
    "\n",
    "\n",
    "\n",
    "Input : geeks\n",
    "\n",
    "Output : No"
   ]
  },
  {
   "cell_type": "code",
   "execution_count": 24,
   "id": "3dbb4c0c",
   "metadata": {},
   "outputs": [
    {
     "data": {
      "text/plain": [
       "'Yes'"
      ]
     },
     "execution_count": 24,
     "metadata": {},
     "output_type": "execute_result"
    }
   ],
   "source": [
    "def is_palindrome(s):\n",
    "    if s == s[::-1]:\n",
    "        return \"Yes\"\n",
    "    else:\n",
    "        return \"No\"\n",
    "\n",
    "\n",
    "def is_palindrome(s):\n",
    "        return s == s[::-1]\n",
    "        \n",
    "is_palindrome(\"dad\")"
   ]
  },
  {
   "cell_type": "code",
   "execution_count": null,
   "id": "78952222",
   "metadata": {},
   "outputs": [],
   "source": []
  },
  {
   "cell_type": "markdown",
   "id": "7a8ce226",
   "metadata": {},
   "source": [
    "# Reverse words in a given string"
   ]
  },
  {
   "cell_type": "markdown",
   "id": "e7d475ad",
   "metadata": {},
   "source": [
    "Given a string, the task is to reverse the order of the words in the given string. "
   ]
  },
  {
   "cell_type": "markdown",
   "id": "8800d1eb",
   "metadata": {},
   "source": [
    "Input: s = “geeks quiz practice code” \n",
    "\n",
    "Output: s = “code practice quiz geeks”\n",
    "\n",
    "\n",
    "Input: s = “i love programming very much” \n",
    "\n",
    "Output: s = “much very programming love i” \n"
   ]
  },
  {
   "cell_type": "code",
   "execution_count": 25,
   "id": "db7a92fd",
   "metadata": {},
   "outputs": [
    {
     "name": "stdout",
     "output_type": "stream",
     "text": [
      "code practice quiz geeks\n"
     ]
    }
   ],
   "source": [
    "s = \"geeks quiz practice code\"\n",
    "\n",
    "s = s.split()[::-1]\n",
    "\n",
    "print(\" \".join(s))"
   ]
  },
  {
   "cell_type": "code",
   "execution_count": null,
   "id": "3ed8f8bb",
   "metadata": {},
   "outputs": [],
   "source": []
  },
  {
   "cell_type": "markdown",
   "id": "b68fac87",
   "metadata": {},
   "source": [
    "# Program to find whether the given number is Armstrong number or not"
   ]
  },
  {
   "cell_type": "markdown",
   "id": "75a73287",
   "metadata": {},
   "source": [
    "A positive integer is called an Armstrong number of order n if:"
   ]
  },
  {
   "cell_type": "markdown",
   "id": "4fc1d18b",
   "metadata": {},
   "source": [
    "for example:\n",
    "\n",
    "153 = 1 * 1 * 1 + 5 * 5 * 5 + 3 * 3 *3  // 153 is an Armstrong number."
   ]
  },
  {
   "cell_type": "code",
   "execution_count": null,
   "id": "1ef3f6f7",
   "metadata": {},
   "outputs": [],
   "source": []
  },
  {
   "cell_type": "code",
   "execution_count": null,
   "id": "30c164d8",
   "metadata": {},
   "outputs": [],
   "source": []
  },
  {
   "cell_type": "markdown",
   "id": "e732c8e9",
   "metadata": {},
   "source": [
    "# Program to find whether a given number is prime or not"
   ]
  },
  {
   "cell_type": "code",
   "execution_count": null,
   "id": "8bcb5f91",
   "metadata": {},
   "outputs": [],
   "source": []
  },
  {
   "cell_type": "code",
   "execution_count": null,
   "id": "9ea900f9",
   "metadata": {},
   "outputs": [],
   "source": []
  },
  {
   "cell_type": "code",
   "execution_count": null,
   "id": "59e53d44",
   "metadata": {},
   "outputs": [],
   "source": []
  },
  {
   "cell_type": "markdown",
   "id": "dcfcb9e8",
   "metadata": {},
   "source": [
    "# Program to print all prime numbers in an interval"
   ]
  },
  {
   "cell_type": "markdown",
   "id": "3157f548",
   "metadata": {},
   "source": [
    "A positive integer greater than 1 which has no other factors except 1 and the number itself is called a prime number.\n",
    "\n",
    "2, 3, 5, 7 etc. are prime numbers as they do not have any other factors. But 6 is not prime (it is composite) since, 2 x 3 = 6.\n",
    "\n"
   ]
  },
  {
   "cell_type": "code",
   "execution_count": null,
   "id": "a6d1b9ed",
   "metadata": {},
   "outputs": [],
   "source": []
  },
  {
   "cell_type": "code",
   "execution_count": null,
   "id": "afaef7d6",
   "metadata": {},
   "outputs": [],
   "source": []
  },
  {
   "cell_type": "code",
   "execution_count": null,
   "id": "9b65f95b",
   "metadata": {},
   "outputs": [],
   "source": []
  },
  {
   "cell_type": "markdown",
   "id": "ebbd1a44",
   "metadata": {},
   "source": [
    "# Program to find factorial of a number"
   ]
  },
  {
   "cell_type": "markdown",
   "id": "48bb527c",
   "metadata": {},
   "source": [
    "The factorial of a number is the product of all the integers from 1 to that number.\n",
    "\n",
    "For example, the factorial of 6 is 1*2*3*4*5*6 = 720. Factorial is not defined for negative numbers, and the factorial of zero is one, 0! = 1."
   ]
  },
  {
   "cell_type": "markdown",
   "id": "f957166c",
   "metadata": {},
   "source": [
    "# Program to check if 2 strings are rotation of each other"
   ]
  },
  {
   "cell_type": "code",
   "execution_count": null,
   "id": "ec37d8a1",
   "metadata": {},
   "outputs": [],
   "source": []
  }
 ],
 "metadata": {
  "kernelspec": {
   "display_name": "Python 3 (ipykernel)",
   "language": "python",
   "name": "python3"
  },
  "language_info": {
   "codemirror_mode": {
    "name": "ipython",
    "version": 3
   },
   "file_extension": ".py",
   "mimetype": "text/x-python",
   "name": "python",
   "nbconvert_exporter": "python",
   "pygments_lexer": "ipython3",
   "version": "3.8.10"
  }
 },
 "nbformat": 4,
 "nbformat_minor": 5
}
