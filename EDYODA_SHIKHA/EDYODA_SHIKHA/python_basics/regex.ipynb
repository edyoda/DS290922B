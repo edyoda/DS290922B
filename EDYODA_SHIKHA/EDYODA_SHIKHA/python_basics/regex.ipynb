{
 "cells": [
  {
   "cell_type": "code",
   "execution_count": 1,
   "id": "2c64dc47",
   "metadata": {},
   "outputs": [],
   "source": [
    "# A RegEx, or Regular Expression, is a sequence of characters that forms a search pattern.\n",
    "\n",
    "# RegEx can be used to check if a string contains the specified search pattern."
   ]
  },
  {
   "cell_type": "markdown",
   "id": "007b4311",
   "metadata": {},
   "source": [
    "RegEx Module\n",
    "Python has a built-in package called re, which can be used to work with Regular Expressions.\n",
    "\n",
    "Import the re module:\n",
    "\n",
    "import re"
   ]
  },
  {
   "cell_type": "markdown",
   "id": "0005574a",
   "metadata": {},
   "source": [
    "RegEx Functions\n",
    "The re module offers a set of functions that allows us to search a string for a match:\n",
    "\n",
    "Function\tDescription\n",
    "\n",
    "findall\t: Returns a list containing all matches\n",
    "\n",
    "search\t: Returns a Match object if there is a match anywhere in the string\n",
    "\n",
    "split\t: Returns a list where the string has been split at each match\n",
    "\n",
    "sub\t: Replaces one or many matches with a string\n"
   ]
  },
  {
   "cell_type": "markdown",
   "id": "658d137d",
   "metadata": {},
   "source": [
    "# Metacharacters:\n",
    "\n",
    "Metacharacters are characters with a special meaning:"
   ]
  },
  {
   "cell_type": "markdown",
   "id": "70e42b3d",
   "metadata": {},
   "source": [
    "Character\tDescription\tExample\t\n",
    "[]\tA set of characters\t\"[a-m]\"\t\n",
    "\\\tSignals a special sequence (can also be used to escape special characters)\t\"\\d\"\t\n",
    ".\tAny character (except newline character)\t\"he..o\"\t\n",
    "^\tStarts with\t\"^hello\"\t\n",
    "$\tEnds with\t\"planet$\"\t\n",
    "*\tZero or more occurrences\t\"he.*o\"\t\n",
    "+\tOne or more occurrences\t\"he.+o\"\t\n",
    "?\tZero or one occurrences\t\"he.?o\"\t\n",
    "{}\tExactly the specified number of occurrences\t\"he.{2}o\"\t\n",
    "|\tEither or\t\"falls|stays\""
   ]
  },
  {
   "cell_type": "code",
   "execution_count": null,
   "id": "2edbe9f7",
   "metadata": {},
   "outputs": [],
   "source": []
  }
 ],
 "metadata": {
  "kernelspec": {
   "display_name": "Python 3 (ipykernel)",
   "language": "python",
   "name": "python3"
  },
  "language_info": {
   "codemirror_mode": {
    "name": "ipython",
    "version": 3
   },
   "file_extension": ".py",
   "mimetype": "text/x-python",
   "name": "python",
   "nbconvert_exporter": "python",
   "pygments_lexer": "ipython3",
   "version": "3.8.10"
  }
 },
 "nbformat": 4,
 "nbformat_minor": 5
}
