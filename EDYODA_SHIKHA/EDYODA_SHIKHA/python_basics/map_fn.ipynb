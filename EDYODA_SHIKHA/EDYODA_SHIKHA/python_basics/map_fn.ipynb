{
 "cells": [
  {
   "cell_type": "code",
   "execution_count": null,
   "id": "ca3d2827",
   "metadata": {},
   "outputs": [],
   "source": [
    "#  The map() function applies a given function to each item of an iterable (list, tuple etc.) \n",
    "# and returns an iterator."
   ]
  },
  {
   "cell_type": "code",
   "execution_count": 1,
   "id": "3cc99edd",
   "metadata": {},
   "outputs": [],
   "source": [
    "numbers = [2, 4, 6, 8, 10]\n",
    "\n",
    "# returns square of a number\n",
    "def square(number):\n",
    "    return number * number\n",
    "\n",
    "# apply square() function to each item of the numbers list\n",
    "squared_numbers_iterator = map(square, numbers)\n"
   ]
  },
  {
   "cell_type": "code",
   "execution_count": 2,
   "id": "3ba074e2",
   "metadata": {},
   "outputs": [
    {
     "data": {
      "text/plain": [
       "<map at 0x7f9e902eafa0>"
      ]
     },
     "execution_count": 2,
     "metadata": {},
     "output_type": "execute_result"
    }
   ],
   "source": [
    "squared_numbers_iterator"
   ]
  },
  {
   "cell_type": "code",
   "execution_count": 3,
   "id": "9722d797",
   "metadata": {},
   "outputs": [
    {
     "data": {
      "text/plain": [
       "map"
      ]
     },
     "execution_count": 3,
     "metadata": {},
     "output_type": "execute_result"
    }
   ],
   "source": [
    "type(squared_numbers_iterator)"
   ]
  },
  {
   "cell_type": "code",
   "execution_count": 4,
   "id": "91c15919",
   "metadata": {},
   "outputs": [
    {
     "name": "stdout",
     "output_type": "stream",
     "text": [
      "[4, 16, 36, 64, 100]\n"
     ]
    }
   ],
   "source": [
    "# converting to list\n",
    "squared_numbers = list(squared_numbers_iterator)\n",
    "print(squared_numbers)"
   ]
  },
  {
   "cell_type": "code",
   "execution_count": null,
   "id": "ca12ce85",
   "metadata": {},
   "outputs": [],
   "source": []
  }
 ],
 "metadata": {
  "kernelspec": {
   "display_name": "Python 3 (ipykernel)",
   "language": "python",
   "name": "python3"
  },
  "language_info": {
   "codemirror_mode": {
    "name": "ipython",
    "version": 3
   },
   "file_extension": ".py",
   "mimetype": "text/x-python",
   "name": "python",
   "nbconvert_exporter": "python",
   "pygments_lexer": "ipython3",
   "version": "3.8.10"
  }
 },
 "nbformat": 4,
 "nbformat_minor": 5
}
