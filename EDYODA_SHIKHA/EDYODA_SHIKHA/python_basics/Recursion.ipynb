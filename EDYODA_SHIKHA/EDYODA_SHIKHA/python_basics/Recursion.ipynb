{
 "cells": [
  {
   "cell_type": "markdown",
   "id": "05cbd430",
   "metadata": {},
   "source": [
    "# Fibonacci Series"
   ]
  },
  {
   "cell_type": "markdown",
   "id": "6be16d5e",
   "metadata": {},
   "source": [
    "fibonacci series: 0 1 1 2 3 5 8 13........"
   ]
  },
  {
   "cell_type": "code",
   "execution_count": 3,
   "id": "2fa444ba",
   "metadata": {},
   "outputs": [
    {
     "name": "stdout",
     "output_type": "stream",
     "text": [
      "enter a positive number6\n",
      "8\n"
     ]
    }
   ],
   "source": [
    "def fibonacci(n):      \n",
    "    if n <= 1:\n",
    "        return n\n",
    "    else:\n",
    "        return fibonacci(n-1) + fibonacci(n-2)\n",
    "    \n",
    "count = int(input(\"enter a positive number\"))\n",
    "print(fibonacci(count))"
   ]
  },
  {
   "cell_type": "code",
   "execution_count": null,
   "id": "d44651fa",
   "metadata": {},
   "outputs": [],
   "source": [
    "#(6)                           8\n",
    "      f(5) + f(4)                5+3=8\n",
    "      #f(5):                     5\n",
    "        f(4) + f(3)              3+2=5\n",
    "        #f(4):                    3\n",
    "          f(3) + f(2)             2+1=3\n",
    "            #f(3):                2\n",
    "                f(2) + f(1)       1+1=2\n",
    "                #f(2):           1\n",
    "                 f(1) + f(0)     1 \n",
    "                 #f(1):          1 + f(0): 1 +0=1\n",
    "                  1 \n",
    "            "
   ]
  },
  {
   "cell_type": "markdown",
   "id": "bb5da513",
   "metadata": {},
   "source": [
    "# Disadvantages of Recursion"
   ]
  },
  {
   "cell_type": "markdown",
   "id": "7d87439a",
   "metadata": {},
   "source": [
    "1. Takes up a lot of memory & time\n",
    "2. hard to debug"
   ]
  },
  {
   "cell_type": "markdown",
   "id": "907c2fa0",
   "metadata": {},
   "source": [
    "# Advantages of recursion"
   ]
  },
  {
   "cell_type": "markdown",
   "id": "17c1c264",
   "metadata": {},
   "source": [
    "1. code look clean & elegant\n",
    "2. breaks down a bigger problem into sub-problems"
   ]
  },
  {
   "cell_type": "code",
   "execution_count": null,
   "id": "0ad8443a",
   "metadata": {},
   "outputs": [],
   "source": []
  }
 ],
 "metadata": {
  "kernelspec": {
   "display_name": "Python 3 (ipykernel)",
   "language": "python",
   "name": "python3"
  },
  "language_info": {
   "codemirror_mode": {
    "name": "ipython",
    "version": 3
   },
   "file_extension": ".py",
   "mimetype": "text/x-python",
   "name": "python",
   "nbconvert_exporter": "python",
   "pygments_lexer": "ipython3",
   "version": "3.8.10"
  }
 },
 "nbformat": 4,
 "nbformat_minor": 5
}
