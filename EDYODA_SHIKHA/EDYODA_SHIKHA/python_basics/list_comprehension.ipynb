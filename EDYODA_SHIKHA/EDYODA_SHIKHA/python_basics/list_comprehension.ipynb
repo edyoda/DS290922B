{
 "cells": [
  {
   "cell_type": "markdown",
   "id": "206f8477",
   "metadata": {},
   "source": [
    "A Python list comprehension consists of brackets containing the expression, which is executed for each element along with the for loop to iterate over each element in the Python list. "
   ]
  },
  {
   "cell_type": "code",
   "execution_count": 13,
   "id": "3d65b599",
   "metadata": {},
   "outputs": [
    {
     "name": "stdout",
     "output_type": "stream",
     "text": [
      "['h', 'u', 'm', 'a', 'n']\n",
      "['h', 'u', 'm', 'a', 'n']\n"
     ]
    }
   ],
   "source": [
    "s = \"human\"\n",
    "l = []\n",
    "\n",
    "for letter in s:\n",
    "    l.append(letter)\n",
    "    \n",
    "# [expression  for  item iterable (condition)]\n",
    "# [expression_is_for_true_condition (if_condition) (else_condition) for item iterable]\n",
    "l1 = [letter for letter in s]\n",
    "\n",
    "print(l)\n",
    "\n",
    "print(l1)"
   ]
  },
  {
   "cell_type": "code",
   "execution_count": 1,
   "id": "7033b879",
   "metadata": {},
   "outputs": [
    {
     "name": "stdout",
     "output_type": "stream",
     "text": [
      "['apple', 'banana', 'mango']\n"
     ]
    }
   ],
   "source": [
    "# if 'a' letter exists in fruit name, store in another list\n",
    "fruits = [\"apple\", \"banana\", \"cherry\", \"kiwi\", \"mango\"]\n",
    "newlist = []\n",
    "\n",
    "for x in fruits:\n",
    "    if \"a\" in x:\n",
    "    newlist.append(x)\n",
    "\n",
    "print(newlist)"
   ]
  },
  {
   "cell_type": "markdown",
   "id": "43f62b42",
   "metadata": {},
   "source": [
    "With list comprehension you can do all that with only one line of code:"
   ]
  },
  {
   "cell_type": "code",
   "execution_count": 2,
   "id": "50a762b7",
   "metadata": {},
   "outputs": [
    {
     "name": "stdout",
     "output_type": "stream",
     "text": [
      "['apple', 'banana', 'mango']\n"
     ]
    }
   ],
   "source": [
    "fruits = [\"apple\", \"banana\", \"cherry\", \"kiwi\", \"mango\"]\n",
    "\n",
    "newlist = [x for x in fruits if \"a\" in x]\n",
    "\n",
    "print(newlist)"
   ]
  },
  {
   "cell_type": "code",
   "execution_count": 3,
   "id": "9aa714c7",
   "metadata": {},
   "outputs": [],
   "source": [
    "# Only accept items that are not \"apple\":\n",
    "\n",
    "newlist = [x for x in fruits if x != \"apple\"]"
   ]
  },
  {
   "cell_type": "code",
   "execution_count": 6,
   "id": "fc9eaf3a",
   "metadata": {},
   "outputs": [
    {
     "name": "stdout",
     "output_type": "stream",
     "text": [
      "[0, 2, 4, 6, 8, 10]\n"
     ]
    }
   ],
   "source": [
    "# Even list using list comprehension\n",
    "\n",
    "number_list = [i for i in range(11) if i % 2 == 0]\n",
    "print(number_list)\n"
   ]
  },
  {
   "cell_type": "code",
   "execution_count": 17,
   "id": "85756f43",
   "metadata": {},
   "outputs": [
    {
     "name": "stdout",
     "output_type": "stream",
     "text": [
      "[2, 1, 2, 3]\n",
      "[2, 1, 2, 3]\n"
     ]
    }
   ],
   "source": [
    "# replace all zeroes with 2\n",
    "l = [0,1,0,3]\n",
    "l = [3,1,3,2]\n",
    "result = [2,1,2,2]\n",
    "\n",
    "k = [2 if item==3 for item in l]\n",
    "\n",
    "\n",
    "new_list_org = [2, 1, 2, 3]\n",
    "\n",
    "\n",
    "for item in l:\n",
    "    if item == 0:\n",
    "        new_list.append(2)\n",
    "    else:\n",
    "        new_list.append(item)\n",
    "        \n",
    "x = [item if item else 2 for item in l]\n",
    "print(x)\n",
    "print(new_list)"
   ]
  },
  {
   "cell_type": "code",
   "execution_count": 18,
   "id": "5c6b9b99",
   "metadata": {},
   "outputs": [
    {
     "name": "stdout",
     "output_type": "stream",
     "text": [
      "i-------> 0\n",
      "j: 0\n",
      "j: 1\n",
      "j: 2\n",
      "i-------> 1\n",
      "j: 0\n",
      "j: 1\n",
      "j: 2\n",
      "i-------> 2\n",
      "j: 0\n",
      "j: 1\n",
      "j: 2\n"
     ]
    }
   ],
   "source": [
    "for i in range(3):\n",
    "    print(\"i------->\", i)\n",
    "    for j in range(3):\n",
    "        print(\"j:\", j)"
   ]
  },
  {
   "cell_type": "code",
   "execution_count": 3,
   "id": "8345243b",
   "metadata": {},
   "outputs": [
    {
     "name": "stdout",
     "output_type": "stream",
     "text": [
      "0\n",
      "1\n",
      "1\n",
      "[[0, 1, 2], [0, 1, 2], [0, 1, 2]]\n"
     ]
    }
   ],
   "source": [
    "# Matrix using List comprehension\n",
    "\n",
    "final_list = []\n",
    "\n",
    "for i in range(3):\n",
    "    sub_list = []\n",
    "    for j in range(3):\n",
    "        sub_list.append(j)\n",
    "    final_list.append(sub_list)\n",
    "    \n",
    "print(final_list[0][0])\n",
    "print(final_list[0][1]) \n",
    "print(final_list[2][1])\n",
    "        \n",
    "        \n",
    "        \n",
    "[0,1,2]\n",
    "[[0,1,2]]\n",
    "        \n",
    "\n",
    "matrix = [[j for j in range(3)] for i in range(3)]\n",
    "\n",
    "print(matrix)\n"
   ]
  },
  {
   "cell_type": "code",
   "execution_count": 11,
   "id": "43bd5272",
   "metadata": {},
   "outputs": [
    {
     "name": "stdout",
     "output_type": "stream",
     "text": [
      "[10, 20, 30, 40, 50]\n"
     ]
    }
   ],
   "source": [
    "# use for loop to print a table of 10.\n",
    "\n",
    "numbers = [i*10 for i in range(1, 6)]\n",
    "\n",
    "print(numbers)\n"
   ]
  },
  {
   "cell_type": "markdown",
   "id": "99896627",
   "metadata": {},
   "source": [
    "Advantages of List Comprehension\n",
    "\n",
    "1. More time-efficient and space-efficient than loops.\n",
    "\n",
    "2. Require fewer lines of code.\n",
    "\n",
    "3. Transforms iterative statement into a formula.\n"
   ]
  },
  {
   "cell_type": "markdown",
   "id": "e3d0f8a6",
   "metadata": {},
   "source": [
    "# Time Analysis in List Comprehensions and Loop\n",
    "\n",
    "The list comprehensions are more efficient both computationally and in terms of coding space and time than a for a loop. Typically, they are written in a single line of code. The below program depicts the difference between for loops and list comprehension based on performance."
   ]
  },
  {
   "cell_type": "code",
   "execution_count": 8,
   "id": "d1abae58",
   "metadata": {},
   "outputs": [
    {
     "name": "stdout",
     "output_type": "stream",
     "text": [
      "Time taken for_loop: 0.26\n",
      "Time taken for list_comprehension: 0.22\n"
     ]
    }
   ],
   "source": [
    "# Import required module\n",
    "import time\n",
    "\n",
    "\n",
    "# define function to implement for loop\n",
    "def for_loop(n):\n",
    "\tresult = []\n",
    "\tfor i in range(n):\n",
    "\t\tresult.append(i**2)\n",
    "\treturn result\n",
    "\n",
    "\n",
    "# define function to implement list comprehension\n",
    "def list_comprehension(n):\n",
    "\treturn [i**2 for i in range(n)]\n",
    "\n",
    "\n",
    "# Driver Code\n",
    "\n",
    "# Calculate time takens by for_loop()\n",
    "begin = time.time()   #8:30:35456\n",
    "for_loop(10**6)\n",
    "end = time.time()    #8:31:2456 \n",
    "\n",
    "# Display time taken by for_loop()\n",
    "print('Time taken for_loop:', round(end-begin, 2))\n",
    "\n",
    "# Calculate time takens by list_comprehension()\n",
    "begin = time.time()\n",
    "list_comprehension(10**6)\n",
    "end = time.time()\n",
    "\n",
    "# Display time taken by for_loop()\n",
    "print('Time taken for list_comprehension:', round(end-begin, 2))\n"
   ]
  },
  {
   "cell_type": "markdown",
   "id": "41e0521e",
   "metadata": {},
   "source": [
    "# Nested List Comprehension"
   ]
  },
  {
   "cell_type": "markdown",
   "id": "5ba83e54",
   "metadata": {},
   "source": [
    "Nested List Comprehensions are nothing but a list comprehension within another list comprehension which is quite similar to nested for loops. Below is the program which implements nested loop:\n",
    "\n"
   ]
  },
  {
   "cell_type": "code",
   "execution_count": 9,
   "id": "7c241ba2",
   "metadata": {},
   "outputs": [
    {
     "name": "stdout",
     "output_type": "stream",
     "text": [
      "[[0, 1, 2, 3, 4], [0, 1, 2, 3, 4], [0, 1, 2, 3, 4]]\n"
     ]
    }
   ],
   "source": [
    "matrix = []\n",
    "\n",
    "for i in range(3):\n",
    "\n",
    "\t# Append an empty sublist inside the list\n",
    "\tmatrix.append([])\n",
    "\n",
    "\tfor j in range(5):\n",
    "\t\tmatrix[i].append(j)\n",
    "\n",
    "print(matrix)\n"
   ]
  },
  {
   "cell_type": "code",
   "execution_count": 10,
   "id": "8a2b1a7d",
   "metadata": {},
   "outputs": [
    {
     "name": "stdout",
     "output_type": "stream",
     "text": [
      "[[0, 1, 2, 3, 4], [0, 1, 2, 3, 4], [0, 1, 2, 3, 4]]\n"
     ]
    }
   ],
   "source": [
    "# Nested list comprehension\n",
    "matrix = [[j for j in range(5)] for i in range(3)]\n",
    "\n",
    "print(matrix)\n"
   ]
  },
  {
   "cell_type": "code",
   "execution_count": null,
   "id": "946f4439",
   "metadata": {},
   "outputs": [],
   "source": []
  }
 ],
 "metadata": {
  "kernelspec": {
   "display_name": "Python 3 (ipykernel)",
   "language": "python",
   "name": "python3"
  },
  "language_info": {
   "codemirror_mode": {
    "name": "ipython",
    "version": 3
   },
   "file_extension": ".py",
   "mimetype": "text/x-python",
   "name": "python",
   "nbconvert_exporter": "python",
   "pygments_lexer": "ipython3",
   "version": "3.8.10"
  }
 },
 "nbformat": 4,
 "nbformat_minor": 5
}
