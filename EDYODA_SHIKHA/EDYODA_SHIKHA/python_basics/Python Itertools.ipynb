{
 "cells": [
  {
   "cell_type": "markdown",
   "id": "b7d9fa10",
   "metadata": {},
   "source": [
    "# Python Itertools"
   ]
  },
  {
   "cell_type": "markdown",
   "id": "651f6d10",
   "metadata": {},
   "source": [
    "Itertool is one of the most amazing Python 3 standard libraries. This library has pretty much coolest functions and nothing wrong to say that it is the gem of the Python programing language. Python provides excellent documentation of the itertools but in this tutorial, we will discuss few important and useful functions or iterators of itertools."
   ]
  },
  {
   "cell_type": "markdown",
   "id": "55062b6c",
   "metadata": {},
   "source": [
    "Python’s Itertool is a module that provides various functions that work on iterators to produce complex iterators. This module works as a fast, memory-efficient tool that is used either by themselves or in combination to form iterator algebra. "
   ]
  },
  {
   "cell_type": "markdown",
   "id": "8d1d43e1",
   "metadata": {},
   "source": [
    "For example, let’s suppose there are two lists and you want to multiply their elements. There can be several ways of achieving this. One can be using the naive approach i.e by iterating through the elements of both the list simultaneously and multiply them. And another approach can be using the map function i.e by passing the mul operator as a first parameter to the map function and Lists as the second and third parameter to this function. Let’s see the time taken by each approach. "
   ]
  },
  {
   "cell_type": "code",
   "execution_count": 24,
   "id": "bde615a8",
   "metadata": {},
   "outputs": [
    {
     "name": "stdout",
     "output_type": "stream",
     "text": [
      "[(1, 'a'), (2, 'b'), (3, 'c')]\n"
     ]
    }
   ],
   "source": [
    "a = [1,2,3]  \n",
    "b= ['a', 'b', 'c']  \n",
    "c = list(zip(a,b))  \n",
    "print(c)  "
   ]
  },
  {
   "cell_type": "code",
   "execution_count": 6,
   "id": "c7401fd5",
   "metadata": {},
   "outputs": [
    {
     "name": "stdout",
     "output_type": "stream",
     "text": [
      "1 A\n",
      "2 B\n"
     ]
    }
   ],
   "source": [
    "# zip stops when the shorter of foo or bar stops.\n",
    "foo = [1,2,3,4,5]\n",
    "bar = ['A', 'B']\n",
    "for f, b in zip(foo, bar):\n",
    "    print(f, b)"
   ]
  },
  {
   "cell_type": "code",
   "execution_count": 25,
   "id": "9063612c",
   "metadata": {},
   "outputs": [
    {
     "name": "stdout",
     "output_type": "stream",
     "text": [
      "time taken through map function 5.53131103515625e-05\n",
      "10\n",
      "40\n",
      "90\n",
      "time taken through for loop 0.00012946128845214844\n"
     ]
    }
   ],
   "source": [
    "# code to prove that itertools are faster \n",
    "\n",
    "import operator\n",
    "import time\n",
    "\n",
    "l1 = [1,2,3]\n",
    "l2 = [10, 20, 30]\n",
    "\n",
    "t1 = time.time()\n",
    "a,b,c = map(operator.mul, l1, l2)\n",
    "t2 = time.time()\n",
    "print(\"time taken through map function\", t2-t1)\n",
    "\n",
    "t3 = time.time()\n",
    "for i in range(3):\n",
    "    print(l1[i]*l2[i])\n",
    "t4 = time.time()\n",
    "print(\"time taken through for loop\", t4-t3)"
   ]
  },
  {
   "cell_type": "markdown",
   "id": "298f81e8",
   "metadata": {},
   "source": [
    "# 3 Types Of Iterator"
   ]
  },
  {
   "cell_type": "markdown",
   "id": "fa172de6",
   "metadata": {},
   "source": [
    "- Infinite Iterators\n",
    "\n",
    "- Combinatoric Iterators\n",
    "\n",
    "- Terminating Iterators"
   ]
  },
  {
   "cell_type": "markdown",
   "id": "ce9d0f0f",
   "metadata": {},
   "source": [
    "# Infinite Iterators"
   ]
  },
  {
   "cell_type": "markdown",
   "id": "4a6dc232",
   "metadata": {},
   "source": [
    "In Python, any object that can implement for loop is called iterators. Lists, tuples, set, dictionaries, strings are the example of iterators but iterator can also be infinite and this type of iterator is called infinite iterator."
   ]
  },
  {
   "cell_type": "markdown",
   "id": "a69ae991",
   "metadata": {},
   "source": [
    "#Iterator\t#Argument\t#Results\n",
    "count(start,step)\t   start, [step]\t    start, start+step, step+2*step\n",
    "\n",
    "\n",
    "cycle()\t   P\t   p0,p1,….plast\n",
    "\n",
    "repeat()\t   elem [,n]\t     elem, elem, elem,….endlessly or upto n times\n"
   ]
  },
  {
   "cell_type": "markdown",
   "id": "c43bd4d5",
   "metadata": {},
   "source": [
    "- count(start, stop): It prints from the start value to infinite. The step argument is optional, if the value is provided to the step then the number of steps will be skipped. Consider the following example:"
   ]
  },
  {
   "cell_type": "code",
   "execution_count": 7,
   "id": "4e873659",
   "metadata": {},
   "outputs": [
    {
     "name": "stdout",
     "output_type": "stream",
     "text": [
      "10 15 20 25 30 35 40 45 "
     ]
    }
   ],
   "source": [
    "import itertools  \n",
    "  \n",
    "for i in itertools.count(10,5):  \n",
    "    if i == 50:  \n",
    "        break  \n",
    "    else:  \n",
    "        print(i,end=\" \")  "
   ]
  },
  {
   "cell_type": "code",
   "execution_count": 8,
   "id": "756d1878",
   "metadata": {},
   "outputs": [
    {
     "name": "stdout",
     "output_type": "stream",
     "text": [
      "1\n",
      "2\n",
      "3\n",
      "1\n",
      "2\n",
      "3\n",
      "1\n",
      "2\n"
     ]
    }
   ],
   "source": [
    "import itertools  \n",
    "temp = 0                     \n",
    "for i in itertools.cycle(\"123\"):  \n",
    "    if temp > 7:  \n",
    "        break  \n",
    "    else:  \n",
    "        print(i)  \n",
    "        temp = temp+1  "
   ]
  },
  {
   "cell_type": "code",
   "execution_count": 9,
   "id": "c6ee0a6c",
   "metadata": {},
   "outputs": [
    {
     "name": "stdout",
     "output_type": "stream",
     "text": [
      "A B A B A B A B "
     ]
    }
   ],
   "source": [
    "# Python program to demonstrate\n",
    "# infinite iterators\n",
    "\n",
    "import itertools\n",
    "\n",
    "count = 0\n",
    "\n",
    "# for in loop\n",
    "for i in itertools.cycle('AB'):\n",
    "\tif count > 7:\n",
    "\t\tbreak\n",
    "\telse:\n",
    "\t\tprint(i, end = \" \")\n",
    "\t\tcount += 1\n"
   ]
  },
  {
   "cell_type": "markdown",
   "id": "0f4bfe73",
   "metadata": {},
   "source": [
    "- repeat(val,num): As the name suggests, it repeatedly prints the passed value for infinite time. The num argument is optional. Consider the following example:"
   ]
  },
  {
   "cell_type": "code",
   "execution_count": 10,
   "id": "c2e44655",
   "metadata": {},
   "outputs": [
    {
     "name": "stdout",
     "output_type": "stream",
     "text": [
      "Printing the number repeadtly:\n",
      "[40, 40, 40, 40, 40, 40, 40, 40, 40, 40, 40, 40, 40, 40, 40]\n"
     ]
    }
   ],
   "source": [
    "import itertools  \n",
    "\n",
    "print(\"Printing the number repeadtly:\")  \n",
    "print(list(itertools.repeat(40,15)))  "
   ]
  },
  {
   "cell_type": "markdown",
   "id": "1a46a3d0",
   "metadata": {},
   "source": [
    "# Combinatoric Iterators"
   ]
  },
  {
   "cell_type": "markdown",
   "id": "d5ddac06",
   "metadata": {},
   "source": [
    "The complex combinatorial constructs are simplified by the recursive generators. The permutations, combinations, and Cartesian products are the example of the combinatoric construct."
   ]
  },
  {
   "cell_type": "markdown",
   "id": "a9b42b09",
   "metadata": {},
   "source": [
    "In Python, there are four types of combinatoric iterators:"
   ]
  },
  {
   "cell_type": "markdown",
   "id": "ec6f56cb",
   "metadata": {},
   "source": [
    "- Product() - It is used to calculate the cartesian product of input iterable. In this function, we use the optional repeat keyword argument for computation of the product of an iterable with itself. The repeat keyword represents the number of repetitions. It returns output in the form of sorted tuples. Consider the following example:"
   ]
  },
  {
   "attachments": {
    "image.png": {
     "image/png": "[encoded data removed]"
    }
   },
   "cell_type": "markdown",
   "id": "72430e0e",
   "metadata": {},
   "source": [
    "### cartesian product:\n",
    "\n",
    "![image.png](attachment:image.png)"
   ]
  },
  {
   "cell_type": "code",
   "execution_count": 27,
   "id": "3257117a",
   "metadata": {},
   "outputs": [
    {
     "name": "stdout",
     "output_type": "stream",
     "text": [
      "We are computing cartesian product of the containers:\n",
      "[('Java', '5'), ('T', '5'), ('point', '5')]\n",
      "\n",
      "We are computing cartesian product using repeat Keyword Argument:\n",
      "[(1, 1), (1, 2), (2, 1), (2, 2)]\n",
      "\n",
      "We are computing product of the containers:\n",
      "[('C', 4, 2), ('C', 4, 3), ('C', 5, 2), ('C', 5, 3), ('D', 4, 2), ('D', 4, 3), ('D', 5, 2), ('D', 5, 3)]\n"
     ]
    }
   ],
   "source": [
    "from itertools import product  \n",
    "  \n",
    "\n",
    "print(\"We are computing cartesian product of the containers:\")  \n",
    "print(list(product(['Java', 'T', 'point'], '5')))  \n",
    "print()  \n",
    "\n",
    "print(\"We are computing cartesian product using repeat Keyword Argument:\")  \n",
    "print(list(product([1, 2], repeat=2)))   #[1,2]\n",
    "print()  \n",
    "  \n",
    "  \n",
    "print(\"We are computing product of the containers:\")  \n",
    "print(list(product('CD', [4, 5], [2, 3])))  "
   ]
  },
  {
   "cell_type": "markdown",
   "id": "64fff5a5",
   "metadata": {},
   "source": [
    "- Permutations(): It is used to generate all possible permutation of an iterable. The uniqueness of each element depends upon their position instead of values. It accepts two argument iterable and group_size. If the value of group_size is none or not specified then group_size turns into length of the iterable."
   ]
  },
  {
   "cell_type": "code",
   "execution_count": null,
   "id": "673e08cd",
   "metadata": {},
   "outputs": [],
   "source": [
    "# permutation: arrange objects in order # n!/(n-r)!   r<=n , r cannot be greater than n\n",
    "# combination: way of selecting objects in such a way rhat the order of objects doesn't matter #n!/((n-r)!r!)\n",
    "123, 321, 231,...."
   ]
  },
  {
   "cell_type": "code",
   "execution_count": 31,
   "id": "745d34da",
   "metadata": {},
   "outputs": [
    {
     "name": "stdout",
     "output_type": "stream",
     "text": [
      "Computing all permutation of the following list\n",
      "[(3, 'Python'), ('Python', 3)]\n",
      "\n",
      "Computing all permutation of the following list\n",
      "[(1, 2), (1, 3), (2, 1), (2, 3), (3, 1), (3, 2)]\n",
      "\n",
      "Permutations of following string\n",
      "[('A', 'B'), ('B', 'A')]\n",
      "\n",
      "Permutation of the given container is:\n",
      "[(0, 1), (0, 2), (0, 3), (1, 0), (1, 2), (1, 3), (2, 0), (2, 1), (2, 3), (3, 0), (3, 1), (3, 2)]\n"
     ]
    }
   ],
   "source": [
    "from itertools import permutations  \n",
    "  \n",
    "print(\"Computing all permutation of the following list\")  \n",
    "print(list(permutations([3,\"Python\"],2)))  \n",
    "print()  \n",
    "\n",
    "print(\"Computing all permutation of the following list\")  \n",
    "print(list(permutations([1,2,3],2)))     #3!/(3-2)!\n",
    "print()  \n",
    "  \n",
    "  \n",
    "print(\"Permutations of following string\")  \n",
    "print(list(permutations('AB')))  \n",
    "print()  \n",
    "  \n",
    "print(\"Permutation of the given container is:\")  \n",
    "print(list(permutations(range(4),2)))  "
   ]
  },
  {
   "cell_type": "code",
   "execution_count": 15,
   "id": "2945fb98",
   "metadata": {},
   "outputs": [
    {
     "name": "stdout",
     "output_type": "stream",
     "text": [
      "Computing all permutation of the following list\n",
      "[(3,), ('Python',)]\n",
      "\n"
     ]
    }
   ],
   "source": [
    "print(\"Computing all permutation of the following list\")  \n",
    "print(list(permutations([3,\"Python\"],1)))  \n",
    "print()  \n",
    "  "
   ]
  },
  {
   "cell_type": "code",
   "execution_count": 16,
   "id": "b20d7a42",
   "metadata": {},
   "outputs": [
    {
     "name": "stdout",
     "output_type": "stream",
     "text": [
      "Combination of list in sorted order(without replacement) [('B', 3)]\n",
      "\n",
      "Combination of string in sorted order [('Z', 'X')]\n",
      "\n",
      "Combination of list in sorted order [(0, 1), (0, 2), (0, 3), (1, 2), (1, 3), (2, 3)]\n"
     ]
    }
   ],
   "source": [
    "from itertools import combinations  \n",
    "#5b5g=5g5b\n",
    "print(\"Combination of list in sorted order(without replacement)\",list(combinations(['B',3],2)))  \n",
    "print()  \n",
    "  \n",
    "print(\"Combination of string in sorted order\",list(combinations(\"ZX\",2)))  \n",
    "print()  \n",
    "  \n",
    "print(\"Combination of list in sorted order\",list(combinations(range(4),2)))  \n"
   ]
  },
  {
   "cell_type": "markdown",
   "id": "15830d32",
   "metadata": {},
   "source": [
    "Combination_with_replacement(): It accepts two arguments, first argument is a r-length tuple and the second argument is repetition. It returns a subsequence of length n from the elements of the iterable and repeat the same process. Separate elements may repeat itself in combination_with_replacement()"
   ]
  },
  {
   "cell_type": "code",
   "execution_count": 17,
   "id": "14ee0d9e",
   "metadata": {},
   "outputs": [
    {
     "name": "stdout",
     "output_type": "stream",
     "text": [
      "Combination of string in sorted order(with replacement) is:\n",
      "[('X', 'X', 'X'), ('X', 'X', 'Y'), ('X', 'Y', 'Y'), ('Y', 'Y', 'Y')]\n",
      "\n",
      "Combination of list in sorted order(with replacement) is:\n",
      "[(4, 4, 4), (4, 4, 2), (4, 2, 2), (2, 2, 2)]\n",
      "\n",
      "Combination of container in sorted order(with replacement) is:\n",
      "[(0, 0), (0, 1), (0, 2), (1, 1), (1, 2), (2, 2)]\n"
     ]
    }
   ],
   "source": [
    "from itertools import combinations_with_replacement  \n",
    "  \n",
    "print(\"Combination of string in sorted order(with replacement) is:\")  \n",
    "print(list(combinations_with_replacement(\"XY\", 3)))  \n",
    "print()  \n",
    "  \n",
    "print(\"Combination of list in sorted order(with replacement) is:\")  \n",
    "print(list(combinations_with_replacement([4, 2], 3)))  \n",
    "print()  \n",
    "  \n",
    "print(\"Combination of container in sorted order(with replacement) is:\")  \n",
    "print(list(combinations_with_replacement(range(3), 2)))  "
   ]
  },
  {
   "cell_type": "markdown",
   "id": "b3afb47e",
   "metadata": {},
   "source": [
    "# Terminating Iterators\n"
   ]
  },
  {
   "cell_type": "markdown",
   "id": "c6167c1c",
   "metadata": {},
   "source": [
    "Terminating iterators are generally used to work on the small input sequence and generate the output based on the functionality of the method used in iterator.\n",
    "\n",
    "There are different types of terminating iterator:\n",
    "\n",
    "- accumulate(iter, func): It takes two arguments, the first argument is iterable and the second is a function which would be followed at each iteration of value in iterable. If the function is not defined in accumulate() iterator, addition takes place by default. The output iterable depends on the input iterable; if input iterable contains no value then the output iterable will also be empty."
   ]
  },
  {
   "cell_type": "code",
   "execution_count": 32,
   "id": "2d196047",
   "metadata": {},
   "outputs": [
    {
     "name": "stdout",
     "output_type": "stream",
     "text": [
      "The sum is : [1, 5, 10, 17, 26, 37]\n",
      "The product is : [1, 4, 20, 140, 1260, 13860]\n"
     ]
    }
   ],
   "source": [
    "import itertools  \n",
    "import operator  \n",
    "  \n",
    "# initializing list 1  \n",
    "list1 = [1, 4, 5, 7, 9, 11]  \n",
    "  \n",
    "# using accumulate() that will prints the successive summation of elements  \n",
    "print(\"The sum is : \", end=\"\")  \n",
    "print(list(itertools.accumulate(list1)))  \n",
    "  \n",
    "# using accumulate() that will prints the successive multiplication of elements  \n",
    "print(\"The product is : \", end=\"\")  \n",
    "print(list(itertools.accumulate(list1, operator.mul)))  "
   ]
  },
  {
   "cell_type": "markdown",
   "id": "09337662",
   "metadata": {},
   "source": [
    "- chain(iter1, iter2) - It is used to print all the values in iterable passed in the form of chain and declared in arguments. Consider the following example:\n"
   ]
  },
  {
   "cell_type": "code",
   "execution_count": 38,
   "id": "d405dc7f",
   "metadata": {},
   "outputs": [
    {
     "name": "stdout",
     "output_type": "stream",
     "text": [
      "The output is : [1, 2, 3, 4, 1, 5, 6, 8, 9, 10, 11, 12]\n",
      "[1, 2, 3, 4, 1, 5, 6, 8]\n"
     ]
    }
   ],
   "source": [
    "import itertools  \n",
    "  \n",
    "# declaring list 1  \n",
    "list1 = [1, 2, 3, 4]  \n",
    "  \n",
    "# declaring list 2  \n",
    "list2 = [1, 5, 6, 8]  \n",
    "  \n",
    "# declaring list 3  \n",
    "list3 = [9, 10, 11, 12]  \n",
    "  \n",
    "# using chain() function that will to print all elements of lists  \n",
    "print(\"The output is : \", end=\"\")  \n",
    "print(list(itertools.chain(list1, list2, list3)))  \n",
    "\n",
    "list1.extend(list2)\n",
    "print(list1)"
   ]
  },
  {
   "cell_type": "markdown",
   "id": "b658c2d8",
   "metadata": {},
   "source": [
    "- filterfalse(func,seq) - We can assume it by its name, as this iterator prints only those values that return false for the passed function. Consider the following example:\n"
   ]
  },
  {
   "cell_type": "code",
   "execution_count": 21,
   "id": "38eb8681",
   "metadata": {},
   "outputs": [
    {
     "name": "stdout",
     "output_type": "stream",
     "text": [
      "The Output is: [15, 27]\n"
     ]
    }
   ],
   "source": [
    "import itertools  \n",
    "  \n",
    "# declaring list  \n",
    "list1 = [12, 14, 15, 27, 28]  \n",
    "  \n",
    "# using filterfalse() iterator that will print false values  \n",
    "print(\"The Output is: \", end=\"\")  \n",
    "print(list(itertools.filterfalse(lambda x: x % 2 == 0, list1)))  "
   ]
  },
  {
   "cell_type": "code",
   "execution_count": null,
   "id": "51d489de",
   "metadata": {},
   "outputs": [],
   "source": []
  },
  {
   "cell_type": "code",
   "execution_count": null,
   "id": "22014dc2",
   "metadata": {},
   "outputs": [],
   "source": []
  }
 ],
 "metadata": {
  "kernelspec": {
   "display_name": "Python 3 (ipykernel)",
   "language": "python",
   "name": "python3"
  },
  "language_info": {
   "codemirror_mode": {
    "name": "ipython",
    "version": 3
   },
   "file_extension": ".py",
   "mimetype": "text/x-python",
   "name": "python",
   "nbconvert_exporter": "python",
   "pygments_lexer": "ipython3",
   "version": "3.8.10"
  }
 },
 "nbformat": 4,
 "nbformat_minor": 5
}
