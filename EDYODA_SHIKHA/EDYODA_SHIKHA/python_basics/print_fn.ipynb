{
 "cells": [
  {
   "cell_type": "code",
   "execution_count": 1,
   "id": "a7614557",
   "metadata": {},
   "outputs": [
    {
     "name": "stdout",
     "output_type": "stream",
     "text": [
      "Geeks :  1, Portal :  5.33\n",
      "Total students : 240, Boys : 120\n",
      "    031\n",
      " 3.561E+02\n"
     ]
    }
   ],
   "source": [
    "# Python program showing how to use\n",
    "# string modulo operator(%) to print\n",
    "# fancier output\n",
    "\n",
    "# print integer and float value\n",
    "print(\"Geeks : %2d, Portal : %5.2f\" % (1, 05.333))\n",
    "\n",
    "# print integer value\n",
    "print(\"Total students : %3d, Boys : %2d\" % (240, 120))\n",
    "\n",
    "# print octal value\n",
    "print(\"%7.3o\" % (25))\n",
    "\n",
    "# print exponential value\n",
    "print(\"%10.3E\" % (356.08977))\n"
   ]
  },
  {
   "cell_type": "code",
   "execution_count": 2,
   "id": "629ffb97",
   "metadata": {},
   "outputs": [
    {
     "name": "stdout",
     "output_type": "stream",
     "text": [
      "I love Geeks for \"Geeks!\"\n",
      "Geeks and Portal\n",
      "Portal and Geeks\n",
      "I love Geeks for \"Geeks!\"\n",
      "Geeks and Portal\n"
     ]
    }
   ],
   "source": [
    "# Python program showing\n",
    "# use of format() method\n",
    "\n",
    "# using format() method\n",
    "print('I love {} for \"{}!\"'.format('Geeks', 'Geeks'))\n",
    "\n",
    "# using format() method and referring\n",
    "# a position of the object\n",
    "print('{0} and {1}'.format('Geeks', 'Portal'))\n",
    "\n",
    "print('{1} and {0}'.format('Geeks', 'Portal'))\n",
    "\n",
    "\n",
    "# the above formatting can also be done by using f-Strings\n",
    "# Although, this features work only with python 3.6 or above.\n",
    "\n",
    "print(f\"I love {'Geeks'} for \\\"{'Geeks'}!\\\"\")\n",
    "\n",
    "# using format() method and referring\n",
    "# a position of the object\n",
    "print(f\"{'Geeks'} and {'Portal'}\")\n"
   ]
  },
  {
   "cell_type": "code",
   "execution_count": null,
   "id": "2082f87f",
   "metadata": {},
   "outputs": [],
   "source": []
  }
 ],
 "metadata": {
  "kernelspec": {
   "display_name": "Python 3 (ipykernel)",
   "language": "python",
   "name": "python3"
  },
  "language_info": {
   "codemirror_mode": {
    "name": "ipython",
    "version": 3
   },
   "file_extension": ".py",
   "mimetype": "text/x-python",
   "name": "python",
   "nbconvert_exporter": "python",
   "pygments_lexer": "ipython3",
   "version": "3.8.10"
  }
 },
 "nbformat": 4,
 "nbformat_minor": 5
}
