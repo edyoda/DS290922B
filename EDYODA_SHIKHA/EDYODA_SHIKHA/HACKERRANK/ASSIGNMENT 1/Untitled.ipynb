{
 "cells": [
  {
   "cell_type": "code",
   "execution_count": 2,
   "id": "39483c25",
   "metadata": {},
   "outputs": [],
   "source": [
    "# finding the percentage\n",
    "\n",
    "# Concepts:\n",
    "# 1. how to take input as dictionary\n",
    "# 2. how to separate first input from rest of the input in single input provided by user\n",
    "# 3. map function in python"
   ]
  },
  {
   "cell_type": "markdown",
   "id": "8547bf43",
   "metadata": {},
   "source": [
    "*: unpacking operator\n",
    "- used to grab additional things returned from split statement"
   ]
  },
  {
   "cell_type": "code",
   "execution_count": 1,
   "id": "0ff4c918",
   "metadata": {},
   "outputs": [],
   "source": [
    "x = range(5)"
   ]
  },
  {
   "cell_type": "code",
   "execution_count": 2,
   "id": "603f7760",
   "metadata": {},
   "outputs": [
    {
     "data": {
      "text/plain": [
       "range(0, 5)"
      ]
     },
     "execution_count": 2,
     "metadata": {},
     "output_type": "execute_result"
    }
   ],
   "source": [
    "x"
   ]
  },
  {
   "cell_type": "code",
   "execution_count": 3,
   "id": "e069a12a",
   "metadata": {},
   "outputs": [],
   "source": [
    "a, *c = range(5)"
   ]
  },
  {
   "cell_type": "code",
   "execution_count": 4,
   "id": "91f79d0b",
   "metadata": {},
   "outputs": [
    {
     "name": "stdout",
     "output_type": "stream",
     "text": [
      "0\n",
      "1 2 3 4\n"
     ]
    }
   ],
   "source": [
    "print(a)\n",
    "print(*c)"
   ]
  },
  {
   "cell_type": "code",
   "execution_count": 5,
   "id": "67800f63",
   "metadata": {},
   "outputs": [],
   "source": [
    "a, b, *c = range(5)"
   ]
  },
  {
   "cell_type": "code",
   "execution_count": 6,
   "id": "8c39d099",
   "metadata": {},
   "outputs": [
    {
     "name": "stdout",
     "output_type": "stream",
     "text": [
      "0\n",
      "1\n",
      "2 3 4\n"
     ]
    }
   ],
   "source": [
    "print(a)\n",
    "print(b)\n",
    "print(*c)"
   ]
  },
  {
   "cell_type": "code",
   "execution_count": 9,
   "id": "af69895b",
   "metadata": {},
   "outputs": [
    {
     "ename": "SyntaxError",
     "evalue": "starred assignment target must be in a list or tuple (3567274372.py, line 1)",
     "output_type": "error",
     "traceback": [
      "\u001b[0;36m  Cell \u001b[0;32mIn [9], line 1\u001b[0;36m\u001b[0m\n\u001b[0;31m    *c = 5\u001b[0m\n\u001b[0m    ^\u001b[0m\n\u001b[0;31mSyntaxError\u001b[0m\u001b[0;31m:\u001b[0m starred assignment target must be in a list or tuple\n"
     ]
    }
   ],
   "source": [
    "*c = 5\n",
    "print(*c)"
   ]
  },
  {
   "cell_type": "code",
   "execution_count": 11,
   "id": "e30aeb26",
   "metadata": {},
   "outputs": [
    {
     "name": "stdout",
     "output_type": "stream",
     "text": [
      "0\n",
      "1 2 3\n",
      "4\n"
     ]
    }
   ],
   "source": [
    "a, *middle, c = range(5)\n",
    "print(a)\n",
    "print(*middle)\n",
    "print(c)"
   ]
  },
  {
   "cell_type": "code",
   "execution_count": 13,
   "id": "10cdf25d",
   "metadata": {},
   "outputs": [
    {
     "name": "stdout",
     "output_type": "stream",
     "text": [
      "<class 'list'>\n"
     ]
    }
   ],
   "source": [
    "print(type(middle))"
   ]
  },
  {
   "cell_type": "code",
   "execution_count": 14,
   "id": "cf4ccfdf",
   "metadata": {},
   "outputs": [
    {
     "data": {
      "text/plain": [
       "7.8"
      ]
     },
     "execution_count": 14,
     "metadata": {},
     "output_type": "execute_result"
    }
   ],
   "source": [
    "round(7.8, 2)"
   ]
  },
  {
   "cell_type": "code",
   "execution_count": 15,
   "id": "64ad8094",
   "metadata": {},
   "outputs": [
    {
     "data": {
      "text/plain": [
       "7.8"
      ]
     },
     "execution_count": 15,
     "metadata": {},
     "output_type": "execute_result"
    }
   ],
   "source": [
    "round(7.8, 1)"
   ]
  },
  {
   "cell_type": "code",
   "execution_count": null,
   "id": "170e475f",
   "metadata": {},
   "outputs": [],
   "source": [
    "round(7.99,1)"
   ]
  }
 ],
 "metadata": {
  "kernelspec": {
   "display_name": "Python 3 (ipykernel)",
   "language": "python",
   "name": "python3"
  },
  "language_info": {
   "codemirror_mode": {
    "name": "ipython",
    "version": 3
   },
   "file_extension": ".py",
   "mimetype": "text/x-python",
   "name": "python",
   "nbconvert_exporter": "python",
   "pygments_lexer": "ipython3",
   "version": "3.8.10"
  }
 },
 "nbformat": 4,
 "nbformat_minor": 5
}
