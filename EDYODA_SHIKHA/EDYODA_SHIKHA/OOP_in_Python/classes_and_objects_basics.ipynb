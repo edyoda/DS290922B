{
 "cells": [
  {
   "cell_type": "markdown",
   "id": "35cbd117",
   "metadata": {},
   "source": [
    "# Example 1: Creating Class and Object in Python"
   ]
  },
  {
   "cell_type": "markdown",
   "id": "ff3f63fc",
   "metadata": {},
   "source": [
    "Class \n",
    "\n",
    "A class is a collection of objects. \n",
    "A class contains the blueprints or the prototype from which the objects are being created. \n",
    "It is a logical entity that contains some attributes and methods. \n",
    "\n",
    "To understand the need for creating a class let’s consider an example, let’s say you wanted to track the number of dogs that may have different attributes like breed, age. If a list is used, the first element could be the dog’s breed while the second element could represent its age. Let’s suppose there are 100 different dogs, then how would you know which element is supposed to be which? What if you wanted to add other properties to these dogs? This lacks organization and it’s the exact need for classes. "
   ]
  },
  {
   "cell_type": "markdown",
   "id": "d7e9d7ab",
   "metadata": {},
   "source": [
    "Class Definition Syntax:\n",
    "\n",
    "class ClassName:\n",
    "\n",
    "   #Statement-1\n",
    "   .\n",
    "   \n",
    "   .\n",
    "   \n",
    "   .\n",
    "   \n",
    "    Statement-N"
   ]
  },
  {
   "cell_type": "markdown",
   "id": "9e022207",
   "metadata": {},
   "source": [
    "Objects\n",
    "\n",
    "The object is an entity that has a state and behavior associated with it. \n",
    "It may be any real-world object like a mouse, keyboard, chair, table, pen, etc. Integers, strings, floating-point numbers, even arrays, and dictionaries, are all objects. \n",
    "More specifically, any single integer or any single string is an object. \n",
    "The number 12 is an object, the string “Hello, world” is an object, a list is an object that can hold other objects, and so on. \n",
    "You’ve been using objects all along and may not even realize it.\n",
    "\n",
    "An object consists of :\n",
    "\n",
    "State: It is represented by the attributes of an object. It also reflects the properties of an object.\n",
    "\n",
    "Behavior: It is represented by the methods of an object. It also reflects the response of an object to other objects.\n",
    "\n",
    "Identity: It gives a unique name to an object and enables one object to interact with other objects.\n",
    "\n",
    "To understand the state, behavior, and identity let us take the example of the class dog (explained above). \n",
    "\n",
    "- The identity can be considered as the name of the dog.\n",
    "\n",
    "- State or Attributes can be considered as the breed, age, or color of the dog.\n",
    "\n",
    "- The behavior can be considered as to whether the dog is eating or sleeping."
   ]
  },
  {
   "cell_type": "markdown",
   "id": "1d1c3877",
   "metadata": {},
   "source": [
    "# The self  "
   ]
  },
  {
   "cell_type": "markdown",
   "id": "79c6773b",
   "metadata": {},
   "source": [
    "Class methods must have an extra first parameter in the method definition.\n",
    "\n",
    "We do not give a value for this parameter when we call the method, Python provides it\n",
    "If we have a method that takes no arguments, then we still have to have one argument.\n",
    "This is similar to this pointer in C++ and this reference in Java.\n",
    "\n",
    "When we call a method of this object as myobject.method(arg1, arg2), this is automatically converted by Python into MyClass.method(myobject, arg1, arg2) – this is all the special self is about."
   ]
  },
  {
   "cell_type": "markdown",
   "id": "90013b5c",
   "metadata": {},
   "source": [
    "# The __init__ method "
   ]
  },
  {
   "cell_type": "markdown",
   "id": "b5c82122",
   "metadata": {},
   "source": [
    "The __init__ method is similar to constructors in C++ and Java. It is run as soon as an object of a class is instantiated. The method is useful to do any initialization you want to do with your object. "
   ]
  },
  {
   "cell_type": "code",
   "execution_count": 2,
   "id": "a570a740",
   "metadata": {},
   "outputs": [
    {
     "name": "stdout",
     "output_type": "stream",
     "text": [
      "fruit name is: Apple\n"
     ]
    }
   ],
   "source": [
    "class Fruits:\n",
    "    \n",
    "    def __init__(self, name):\n",
    "        self.name = name\n",
    "        \n",
    "    def call_the_fruit_name(self):\n",
    "        print(\"fruit name is:\", self.name)\n",
    "        \n",
    "        \n",
    "fruit_obj = Fruits(\"Apple\")\n",
    "fruit_obj.call_the_fruit_name()"
   ]
  },
  {
   "cell_type": "code",
   "execution_count": 1,
   "id": "ca5f5b83",
   "metadata": {},
   "outputs": [
    {
     "name": "stdout",
     "output_type": "stream",
     "text": [
      "My name is Rodger\n",
      "My name is Tommy\n"
     ]
    }
   ],
   "source": [
    "class Dog:\n",
    "\n",
    "\t# class attribute\n",
    "\tattr1 = \"mammal\"\n",
    "\n",
    "\t# Instance attribute\n",
    "\tdef __init__(self, name):\n",
    "\t\tself.name = name\n",
    "\t\t\n",
    "\tdef speak(self):\n",
    "\t\tprint(\"My name is {}\".format(self.name))\n",
    "\n",
    "# Driver code\n",
    "# Object instantiation\n",
    "Rodger = Dog(\"Rodger\")\n",
    "Tommy = Dog(\"Tommy\")\n",
    "\n",
    "# Accessing class methods\n",
    "Rodger.speak()\n",
    "Tommy.speak()\n"
   ]
  },
  {
   "cell_type": "code",
   "execution_count": null,
   "id": "abc7a17f",
   "metadata": {},
   "outputs": [],
   "source": []
  }
 ],
 "metadata": {
  "kernelspec": {
   "display_name": "Python 3 (ipykernel)",
   "language": "python",
   "name": "python3"
  },
  "language_info": {
   "codemirror_mode": {
    "name": "ipython",
    "version": 3
   },
   "file_extension": ".py",
   "mimetype": "text/x-python",
   "name": "python",
   "nbconvert_exporter": "python",
   "pygments_lexer": "ipython3",
   "version": "3.8.10"
  }
 },
 "nbformat": 4,
 "nbformat_minor": 5
}
